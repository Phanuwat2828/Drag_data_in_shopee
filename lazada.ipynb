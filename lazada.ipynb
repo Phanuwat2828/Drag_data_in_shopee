{
 "cells": [
  {
   "cell_type": "markdown",
   "metadata": {},
   "source": [
    "ใช้ POSTMAN\n",
    "\n",
    "-GET"
   ]
  },
  {
   "cell_type": "code",
   "execution_count": 1,
   "metadata": {},
   "outputs": [],
   "source": [
    "# https://www.lazada.co.th?spam=a2o4m.searchlistcategory.header.dhome.1ef251eeetBkZl\n"
   ]
  }
 ],
 "metadata": {
  "kernelspec": {
   "display_name": "Python 3",
   "language": "python",
   "name": "python3"
  },
  "language_info": {
   "codemirror_mode": {
    "name": "ipython",
    "version": 3
   },
   "file_extension": ".py",
   "mimetype": "text/x-python",
   "name": "python",
   "nbconvert_exporter": "python",
   "pygments_lexer": "ipython3",
   "version": "3.12.0"
  }
 },
 "nbformat": 4,
 "nbformat_minor": 2
}
