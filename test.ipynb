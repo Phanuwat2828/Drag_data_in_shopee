{
 "cells": [
  {
   "cell_type": "code",
   "execution_count": 43,
   "metadata": {},
   "outputs": [
    {
     "ename": "TypeError",
     "evalue": "WebDriver.__init__() got an unexpected keyword argument 'executable_path'",
     "output_type": "error",
     "traceback": [
      "\u001b[1;31m---------------------------------------------------------------------------\u001b[0m",
      "\u001b[1;31mTypeError\u001b[0m                                 Traceback (most recent call last)",
      "Cell \u001b[1;32mIn[43], line 15\u001b[0m\n\u001b[0;32m     11\u001b[0m url \u001b[38;5;241m=\u001b[39m \u001b[38;5;124m'\u001b[39m\u001b[38;5;124mhttps://shopee.co.th/daily_discover?pageNumber=\u001b[39m\u001b[38;5;124m'\u001b[39m\u001b[38;5;241m+\u001b[39mnum;\n\u001b[0;32m     13\u001b[0m \u001b[38;5;66;03m# option = webdriver.ChromeOptions();\u001b[39;00m\n\u001b[0;32m     14\u001b[0m \u001b[38;5;66;03m# option.add_experimental_option(\"detach\",True);\u001b[39;00m\n\u001b[1;32m---> 15\u001b[0m driver \u001b[38;5;241m=\u001b[39m \u001b[43mwebdriver\u001b[49m\u001b[38;5;241;43m.\u001b[39;49m\u001b[43mChrome\u001b[49m\u001b[43m(\u001b[49m\u001b[43mexecutable_path\u001b[49m\u001b[38;5;241;43m=\u001b[39;49m\u001b[43mprogram\u001b[49m\u001b[43m)\u001b[49m;\n\u001b[0;32m     16\u001b[0m driver\u001b[38;5;241m.\u001b[39mget(url);\n\u001b[0;32m     17\u001b[0m \u001b[38;5;66;03m# time.sleep(2) \u001b[39;00m\n\u001b[0;32m     18\u001b[0m \u001b[38;5;66;03m# driver.execute_script(\"window.scrollBy(0, 500);\")\u001b[39;00m\n\u001b[0;32m     19\u001b[0m \u001b[38;5;66;03m# time.sleep(5)\u001b[39;00m\n\u001b[0;32m     20\u001b[0m \u001b[38;5;66;03m# driver.quit()\u001b[39;00m\n\u001b[0;32m     21\u001b[0m \u001b[38;5;66;03m# print(url);\u001b[39;00m\n\u001b[0;32m     22\u001b[0m \u001b[38;5;66;03m# number+=1;\u001b[39;00m\n",
      "\u001b[1;31mTypeError\u001b[0m: WebDriver.__init__() got an unexpected keyword argument 'executable_path'"
     ]
    }
   ],
   "source": [
    "import requests\n",
    "from bs4 import BeautifulSoup;\n",
    "from selenium import webdriver\n",
    "from selenium.webdriver.common.keys import Keys\n",
    "import time\n",
    "number = 1;\n",
    "program = 'chromedriver_win32/chromedriver.exe';\n",
    "for i in range(1):\n",
    "    \n",
    "    num = str(number);\n",
    "    url = 'https://shopee.co.th/daily_discover?pageNumber='+num;\n",
    "    \n",
    "    # option = webdriver.ChromeOptions();\n",
    "    # option.add_experimental_option(\"detach\",True);\n",
    "    driver = webdriver.Chrome(options=program);\n",
    "    driver.get(url);\n",
    "    # time.sleep(2) \n",
    "    # driver.execute_script(\"window.scrollBy(0, 500);\")\n",
    "    # time.sleep(5)\n",
    "    # driver.quit()\n",
    "    # print(url);\n",
    "    # number+=1;\n",
    "    "
   ]
  },
  {
   "cell_type": "code",
   "execution_count": 44,
   "metadata": {},
   "outputs": [
    {
     "ename": "TypeError",
     "evalue": "WebDriver.__init__() got an unexpected keyword argument 'executable_path'",
     "output_type": "error",
     "traceback": [
      "\u001b[1;31m---------------------------------------------------------------------------\u001b[0m",
      "\u001b[1;31mTypeError\u001b[0m                                 Traceback (most recent call last)",
      "Cell \u001b[1;32mIn[44], line 15\u001b[0m\n\u001b[0;32m      9\u001b[0m url \u001b[38;5;241m=\u001b[39m \u001b[38;5;124m'\u001b[39m\u001b[38;5;124mhttps://shopee.co.th/daily_discover?pageNumber=\u001b[39m\u001b[38;5;124m'\u001b[39m \u001b[38;5;241m+\u001b[39m num\n\u001b[0;32m     11\u001b[0m \u001b[38;5;66;03m# Create a ChromeOptions instance if needed\u001b[39;00m\n\u001b[0;32m     12\u001b[0m \u001b[38;5;66;03m# options = webdriver.ChromeOptions()\u001b[39;00m\n\u001b[0;32m     13\u001b[0m \n\u001b[0;32m     14\u001b[0m \u001b[38;5;66;03m# Initialize the Chrome driver with the specified executable path\u001b[39;00m\n\u001b[1;32m---> 15\u001b[0m driver \u001b[38;5;241m=\u001b[39m \u001b[43mwebdriver\u001b[49m\u001b[38;5;241;43m.\u001b[39;49m\u001b[43mChrome\u001b[49m\u001b[43m(\u001b[49m\u001b[43mexecutable_path\u001b[49m\u001b[38;5;241;43m=\u001b[39;49m\u001b[43mprogram\u001b[49m\u001b[43m)\u001b[49m  \u001b[38;5;66;03m# If using ChromeOptions, pass it as an argument: options=options\u001b[39;00m\n\u001b[0;32m     17\u001b[0m driver\u001b[38;5;241m.\u001b[39mget(url)\n\u001b[0;32m     18\u001b[0m \u001b[38;5;66;03m# Perform your desired actions here, such as scrolling\u001b[39;00m\n\u001b[0;32m     19\u001b[0m \u001b[38;5;66;03m# ...\u001b[39;00m\n\u001b[0;32m     20\u001b[0m \n\u001b[0;32m     21\u001b[0m \u001b[38;5;66;03m# Close the browser window\u001b[39;00m\n",
      "\u001b[1;31mTypeError\u001b[0m: WebDriver.__init__() got an unexpected keyword argument 'executable_path'"
     ]
    }
   ],
   "source": [
    "from selenium import webdriver\n",
    "from selenium.webdriver.common.keys import Keys\n",
    "\n",
    "num = '1'  # You should define the value for 'num'\n",
    "\n",
    "# Set the path to your ChromeDriver executable\n",
    "program = 'chromedriver_win32/chromedriver.exe'  # Update this with the actual path\n",
    "\n",
    "url = 'https://shopee.co.th/daily_discover?pageNumber=' + num\n",
    "\n",
    "# Create a ChromeOptions instance if needed\n",
    "# options = webdriver.ChromeOptions()\n",
    "\n",
    "# Initialize the Chrome driver with the specified executable path\n",
    "driver = webdriver.Chrome(executable_path=program)  # If using ChromeOptions, pass it as an argument: options=options\n",
    "\n",
    "driver.get(url)\n",
    "# Perform your desired actions here, such as scrolling\n",
    "# ...\n",
    "\n",
    "# Close the browser window\n",
    "driver.quit()\n"
   ]
  }
 ],
 "metadata": {
  "kernelspec": {
   "display_name": "Python 3",
   "language": "python",
   "name": "python3"
  },
  "language_info": {
   "codemirror_mode": {
    "name": "ipython",
    "version": 3
   },
   "file_extension": ".py",
   "mimetype": "text/x-python",
   "name": "python",
   "nbconvert_exporter": "python",
   "pygments_lexer": "ipython3",
   "version": "3.11.7"
  }
 },
 "nbformat": 4,
 "nbformat_minor": 2
}
