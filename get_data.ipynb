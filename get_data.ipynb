{
 "cells": [
  {
   "cell_type": "code",
   "execution_count": 57,
   "metadata": {},
   "outputs": [
    {
     "name": "stdout",
     "output_type": "stream",
     "text": [
      "<class 'pandas.core.series.Series'>\n"
     ]
    }
   ],
   "source": [
    "import pandas as pd\n",
    "\n",
    "\n",
    "path = './Data_shopee';\n",
    "file = '/shopee.xlsx';\n",
    "find = pd.read_excel(path+file);\n",
    "\n",
    "product =[];\n",
    "link_image_product = [];\n",
    "data_product = [];\n",
    "price_product_1 = [];\n",
    "price_product_2 = [];\n",
    "data_price_all = [];\n",
    "price_product_1.append(find['k9JZlv']);\n",
    "price_product_2.append(find['k9JZlv 2']);\n",
    "product.append(find['col-xs-2-4 href']);\n",
    "link_image_product.append(find['Fd4QmV src']);\n",
    "\n",
    "for data in price_product_2:\n",
    "    print(data);\n",
    "\n",
    "\n"
   ]
  }
 ],
 "metadata": {
  "kernelspec": {
   "display_name": "Python 3",
   "language": "python",
   "name": "python3"
  },
  "language_info": {
   "codemirror_mode": {
    "name": "ipython",
    "version": 3
   },
   "file_extension": ".py",
   "mimetype": "text/x-python",
   "name": "python",
   "nbconvert_exporter": "python",
   "pygments_lexer": "ipython3",
   "version": "3.11.7"
  }
 },
 "nbformat": 4,
 "nbformat_minor": 2
}
