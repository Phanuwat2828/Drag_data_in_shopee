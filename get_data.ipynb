{
 "cells": [
  {
   "cell_type": "code",
   "execution_count": 1,
   "metadata": {},
   "outputs": [],
   "source": [
    "import requests\n",
    "from bs4 import BeautifulSoup as b\n",
    "import pandas as pd\n",
    "\n",
    "url = 'https://shopee.co.th/%E0%B8%84%E0%B8%A7%E0%B8%B2%E0%B8%A1%E0%B8%87%E0%B8%B2%E0%B8%A1%E0%B9%81%E0%B8%A5%E0%B8%B0%E0%B8%82%E0%B8%AD%E0%B8%87%E0%B9%83%E0%B8%8A%E0%B9%89%E0%B8%AA%E0%B9%88%E0%B8%A7%E0%B8%99%E0%B8%95%E0%B8%B1%E0%B8%A7-cat.11044959?page=0';\n",
    "\n",
    "page = requests.get(url)\n",
    "\n",
    "soup = b(page.content,'html.parser')\n"
   ]
  },
  {
   "cell_type": "code",
   "execution_count": 23,
   "metadata": {},
   "outputs": [],
   "source": [
    "all_link = soup.find_all('a',class_ = 'grid-cell grid-cell--with-titles');\n",
    "test_link = soup.find_all('a');\n"
   ]
  },
  {
   "cell_type": "code",
   "execution_count": 106,
   "metadata": {},
   "outputs": [
    {
     "name": "stdout",
     "output_type": "stream",
     "text": [
      "https://shopee.co.th/เครื่องสำอางสำหรับผิวหน้า-cat.11044959.11045208\n",
      "https://shopee.co.th/เครื่องสำอางสำหรับดวงตา-cat.11044959.11045209\n",
      "https://shopee.co.th/ลิป-cat.11044959.11045200\n",
      "https://shopee.co.th/ผลิตภัณฑ์ดูแลผิวหน้า-cat.11044959.11045204\n",
      "https://shopee.co.th/ผลิตภัณฑ์อาบน้ำและดูแลผิวกาย-cat.11044959.11045201\n",
      "https://shopee.co.th/ผลิตภัณฑ์ดูแลผม-cat.11044959.11045206\n",
      "https://shopee.co.th/ผลิตภัณฑ์สำหรับเล็บ-cat.11044959.11045202\n",
      "https://shopee.co.th/ผลิตภัณฑ์สำหรับผู้ชาย-cat.11044959.11045203\n",
      "https://shopee.co.th/อุปกรณ์เสริมความงาม-cat.11044959.11045199\n",
      "https://shopee.co.th/น้ำหอม-cat.11044959.11045207\n",
      "https://shopee.co.th/ของใช้ส่วนตัว-cat.11044959.11045210\n"
     ]
    }
   ],
   "source": [
    "for link in all_link:\n",
    "    href = link['href']\n",
    "    if href:\n",
    "        # ?page=\n",
    "        print(\"https://shopee.co.th\"+href)"
   ]
  },
  {
   "cell_type": "code",
   "execution_count": 24,
   "metadata": {},
   "outputs": [
    {
     "name": "stdout",
     "output_type": "stream",
     "text": [
      "[]\n"
     ]
    }
   ],
   "source": [
    "print(test_link);"
   ]
  },
  {
   "cell_type": "code",
   "execution_count": 17,
   "metadata": {},
   "outputs": [
    {
     "ename": "TypeError",
     "evalue": "WebDriver.__init__() got an unexpected keyword argument 'executable_path'",
     "output_type": "error",
     "traceback": [
      "\u001b[1;31m---------------------------------------------------------------------------\u001b[0m",
      "\u001b[1;31mTypeError\u001b[0m                                 Traceback (most recent call last)",
      "Cell \u001b[1;32mIn[17], line 7\u001b[0m\n\u001b[0;32m      4\u001b[0m chrome_driver_path \u001b[38;5;241m=\u001b[39m \u001b[38;5;124mr\u001b[39m\u001b[38;5;124m'\u001b[39m\u001b[38;5;124mC:\u001b[39m\u001b[38;5;124m\\\u001b[39m\u001b[38;5;124mProgram Files\u001b[39m\u001b[38;5;124m\\\u001b[39m\u001b[38;5;124mGoogle\u001b[39m\u001b[38;5;124m\\\u001b[39m\u001b[38;5;124mChrome\u001b[39m\u001b[38;5;124m\\\u001b[39m\u001b[38;5;124mApplication\u001b[39m\u001b[38;5;124m\\\u001b[39m\u001b[38;5;124mchromedriver\u001b[39m\u001b[38;5;124m'\u001b[39m\n\u001b[0;32m      6\u001b[0m \u001b[38;5;66;03m# Create a new instance of the Chrome driver\u001b[39;00m\n\u001b[1;32m----> 7\u001b[0m driver \u001b[38;5;241m=\u001b[39m \u001b[43mwebdriver\u001b[49m\u001b[38;5;241;43m.\u001b[39;49m\u001b[43mChrome\u001b[49m\u001b[43m(\u001b[49m\u001b[43mexecutable_path\u001b[49m\u001b[38;5;241;43m=\u001b[39;49m\u001b[43mchrome_driver_path\u001b[49m\u001b[43m)\u001b[49m\n\u001b[0;32m      9\u001b[0m \u001b[38;5;66;03m# Navigate to a website\u001b[39;00m\n\u001b[0;32m     10\u001b[0m driver\u001b[38;5;241m.\u001b[39mget(\u001b[38;5;124m\"\u001b[39m\u001b[38;5;124mhttps://shopee.co.th/\u001b[39m\u001b[38;5;132;01m%E\u001b[39;00m\u001b[38;5;124m0\u001b[39m\u001b[38;5;124m%\u001b[39m\u001b[38;5;124mB9\u001b[39m\u001b[38;5;132;01m%80%\u001b[39;00m\u001b[38;5;124mE0\u001b[39m\u001b[38;5;124m%\u001b[39m\u001b[38;5;124mB8\u001b[39m\u001b[38;5;132;01m%84%\u001b[39;00m\u001b[38;5;124mE0\u001b[39m\u001b[38;5;124m%\u001b[39m\u001b[38;5;124mB8\u001b[39m\u001b[38;5;124m%\u001b[39m\u001b[38;5;124mA3\u001b[39m\u001b[38;5;132;01m%E\u001b[39;00m\u001b[38;5;124m0\u001b[39m\u001b[38;5;124m%\u001b[39m\u001b[38;5;124mB8\u001b[39m\u001b[38;5;124m%\u001b[39m\u001b[38;5;124mB7\u001b[39m\u001b[38;5;132;01m%E\u001b[39;00m\u001b[38;5;124m0\u001b[39m\u001b[38;5;124m%\u001b[39m\u001b[38;5;124mB9\u001b[39m\u001b[38;5;132;01m%88%\u001b[39;00m\u001b[38;5;124mE0\u001b[39m\u001b[38;5;124m%\u001b[39m\u001b[38;5;124mB8\u001b[39m\u001b[38;5;124m%\u001b[39m\u001b[38;5;124mAD\u001b[39m\u001b[38;5;132;01m%E\u001b[39;00m\u001b[38;5;124m0\u001b[39m\u001b[38;5;124m%\u001b[39m\u001b[38;5;124mB8\u001b[39m\u001b[38;5;132;01m%87%\u001b[39;00m\u001b[38;5;124mE0\u001b[39m\u001b[38;5;124m%\u001b[39m\u001b[38;5;124mB8\u001b[39m\u001b[38;5;124m%\u001b[39m\u001b[38;5;124mAA\u001b[39m\u001b[38;5;132;01m%E\u001b[39;00m\u001b[38;5;124m0\u001b[39m\u001b[38;5;124m%\u001b[39m\u001b[38;5;124mB8\u001b[39m\u001b[38;5;124m%\u001b[39m\u001b[38;5;124mB3\u001b[39m\u001b[38;5;132;01m%E\u001b[39;00m\u001b[38;5;124m0\u001b[39m\u001b[38;5;124m%\u001b[39m\u001b[38;5;124mB8\u001b[39m\u001b[38;5;124m%\u001b[39m\u001b[38;5;124mAD\u001b[39m\u001b[38;5;132;01m%E\u001b[39;00m\u001b[38;5;124m0\u001b[39m\u001b[38;5;124m%\u001b[39m\u001b[38;5;124mB8\u001b[39m\u001b[38;5;124m%\u001b[39m\u001b[38;5;124mB2\u001b[39m\u001b[38;5;132;01m%E\u001b[39;00m\u001b[38;5;124m0\u001b[39m\u001b[38;5;124m%\u001b[39m\u001b[38;5;124mB8\u001b[39m\u001b[38;5;132;01m%87%\u001b[39;00m\u001b[38;5;124mE0\u001b[39m\u001b[38;5;124m%\u001b[39m\u001b[38;5;124mB8\u001b[39m\u001b[38;5;124m%\u001b[39m\u001b[38;5;124mAA\u001b[39m\u001b[38;5;132;01m%E\u001b[39;00m\u001b[38;5;124m0\u001b[39m\u001b[38;5;124m%\u001b[39m\u001b[38;5;124mB8\u001b[39m\u001b[38;5;124m%\u001b[39m\u001b[38;5;124mB3\u001b[39m\u001b[38;5;132;01m%E\u001b[39;00m\u001b[38;5;124m0\u001b[39m\u001b[38;5;124m%\u001b[39m\u001b[38;5;124mB8\u001b[39m\u001b[38;5;124m%\u001b[39m\u001b[38;5;124mAB\u001b[39m\u001b[38;5;132;01m%E\u001b[39;00m\u001b[38;5;124m0\u001b[39m\u001b[38;5;124m%\u001b[39m\u001b[38;5;124mB8\u001b[39m\u001b[38;5;124m%\u001b[39m\u001b[38;5;124mA3\u001b[39m\u001b[38;5;132;01m%E\u001b[39;00m\u001b[38;5;124m0\u001b[39m\u001b[38;5;124m%\u001b[39m\u001b[38;5;124mB8\u001b[39m\u001b[38;5;124m%\u001b[39m\u001b[38;5;124mB1\u001b[39m\u001b[38;5;132;01m%E\u001b[39;00m\u001b[38;5;124m0\u001b[39m\u001b[38;5;124m%\u001b[39m\u001b[38;5;124mB8\u001b[39m\u001b[38;5;124m%\u001b[39m\u001b[38;5;124m9A\u001b[39m\u001b[38;5;132;01m%E\u001b[39;00m\u001b[38;5;124m0\u001b[39m\u001b[38;5;124m%\u001b[39m\u001b[38;5;124mB8\u001b[39m\u001b[38;5;124m%\u001b[39m\u001b[38;5;124m9C\u001b[39m\u001b[38;5;132;01m%E\u001b[39;00m\u001b[38;5;124m0\u001b[39m\u001b[38;5;124m%\u001b[39m\u001b[38;5;124mB8\u001b[39m\u001b[38;5;124m%\u001b[39m\u001b[38;5;124mB4\u001b[39m\u001b[38;5;132;01m%E\u001b[39;00m\u001b[38;5;124m0\u001b[39m\u001b[38;5;124m%\u001b[39m\u001b[38;5;124mB8\u001b[39m\u001b[38;5;124m%\u001b[39m\u001b[38;5;124mA7\u001b[39m\u001b[38;5;132;01m%E\u001b[39;00m\u001b[38;5;124m0\u001b[39m\u001b[38;5;124m%\u001b[39m\u001b[38;5;124mB8\u001b[39m\u001b[38;5;124m%\u001b[39m\u001b[38;5;124mAB\u001b[39m\u001b[38;5;132;01m%E\u001b[39;00m\u001b[38;5;124m0\u001b[39m\u001b[38;5;124m%\u001b[39m\u001b[38;5;124mB8\u001b[39m\u001b[38;5;132;01m%99%\u001b[39;00m\u001b[38;5;124mE0\u001b[39m\u001b[38;5;124m%\u001b[39m\u001b[38;5;124mB9\u001b[39m\u001b[38;5;132;01m%89%\u001b[39;00m\u001b[38;5;124mE0\u001b[39m\u001b[38;5;124m%\u001b[39m\u001b[38;5;124mB8\u001b[39m\u001b[38;5;124m%\u001b[39m\u001b[38;5;124mB2-cat.11044959.11045208\u001b[39m\u001b[38;5;124m\"\u001b[39m)\n",
      "\u001b[1;31mTypeError\u001b[0m: WebDriver.__init__() got an unexpected keyword argument 'executable_path'"
     ]
    }
   ],
   "source": [
    "from selenium import webdriver\n",
    "\n",
    "# Replace 'path/to/chromedriver' with the actual path to your chromedriver executable\n",
    "chrome_driver_path = r'C:\\Program Files\\Google\\Chrome\\Application\\chromedriver'\n",
    "\n",
    "# Create a new instance of the Chrome driver\n",
    "driver = webdriver.Chrome(executable_path=chrome_driver_path)\n",
    "\n",
    "# Navigate to a website\n",
    "driver.get(\"https://shopee.co.th/%E0%B9%80%E0%B8%84%E0%B8%A3%E0%B8%B7%E0%B9%88%E0%B8%AD%E0%B8%87%E0%B8%AA%E0%B8%B3%E0%B8%AD%E0%B8%B2%E0%B8%87%E0%B8%AA%E0%B8%B3%E0%B8%AB%E0%B8%A3%E0%B8%B1%E0%B8%9A%E0%B8%9C%E0%B8%B4%E0%B8%A7%E0%B8%AB%E0%B8%99%E0%B9%89%E0%B8%B2-cat.11044959.11045208\")\n",
    "\n",
    "# Find an element by its ID and interact with it\n",
    "element = driver.find_element_by_id(\"username\")\n",
    "element.send_keys(\"your_username\")\n",
    "\n",
    "# Perform other actions...\n",
    "\n",
    "# Close the browser window\n",
    "driver.quit()"
   ]
  }
 ],
 "metadata": {
  "kernelspec": {
   "display_name": "Python 3",
   "language": "python",
   "name": "python3"
  },
  "language_info": {
   "codemirror_mode": {
    "name": "ipython",
    "version": 3
   },
   "file_extension": ".py",
   "mimetype": "text/x-python",
   "name": "python",
   "nbconvert_exporter": "python",
   "pygments_lexer": "ipython3",
   "version": "3.11.7"
  }
 },
 "nbformat": 4,
 "nbformat_minor": 2
}
