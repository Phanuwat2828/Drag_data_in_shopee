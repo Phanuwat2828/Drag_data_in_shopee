{
 "cells": [
  {
   "cell_type": "code",
   "execution_count": 104,
   "metadata": {},
   "outputs": [],
   "source": [
    "import requests\n",
    "from bs4 import BeautifulSoup as b\n",
    "import pandas as pd\n",
    "\n",
    "url = 'https://shopee.co.th/%E0%B8%84%E0%B8%A7%E0%B8%B2%E0%B8%A1%E0%B8%87%E0%B8%B2%E0%B8%A1%E0%B9%81%E0%B8%A5%E0%B8%B0%E0%B8%82%E0%B8%AD%E0%B8%87%E0%B9%83%E0%B8%8A%E0%B9%89%E0%B8%AA%E0%B9%88%E0%B8%A7%E0%B8%99%E0%B8%95%E0%B8%B1%E0%B8%A7-cat.11044959?page=0';\n",
    "\n",
    "page = requests.get(url)\n",
    "\n",
    "soup = b(page.content,'html.parser')\n"
   ]
  },
  {
   "cell_type": "code",
   "execution_count": 105,
   "metadata": {},
   "outputs": [],
   "source": [
    "all_link = soup.find_all('a',class_ = 'grid-cell grid-cell--with-titles');\n"
   ]
  },
  {
   "cell_type": "code",
   "execution_count": 106,
   "metadata": {},
   "outputs": [
    {
     "name": "stdout",
     "output_type": "stream",
     "text": [
      "https://shopee.co.th/เครื่องสำอางสำหรับผิวหน้า-cat.11044959.11045208\n",
      "https://shopee.co.th/เครื่องสำอางสำหรับดวงตา-cat.11044959.11045209\n",
      "https://shopee.co.th/ลิป-cat.11044959.11045200\n",
      "https://shopee.co.th/ผลิตภัณฑ์ดูแลผิวหน้า-cat.11044959.11045204\n",
      "https://shopee.co.th/ผลิตภัณฑ์อาบน้ำและดูแลผิวกาย-cat.11044959.11045201\n",
      "https://shopee.co.th/ผลิตภัณฑ์ดูแลผม-cat.11044959.11045206\n",
      "https://shopee.co.th/ผลิตภัณฑ์สำหรับเล็บ-cat.11044959.11045202\n",
      "https://shopee.co.th/ผลิตภัณฑ์สำหรับผู้ชาย-cat.11044959.11045203\n",
      "https://shopee.co.th/อุปกรณ์เสริมความงาม-cat.11044959.11045199\n",
      "https://shopee.co.th/น้ำหอม-cat.11044959.11045207\n",
      "https://shopee.co.th/ของใช้ส่วนตัว-cat.11044959.11045210\n"
     ]
    }
   ],
   "source": [
    "for link in all_link:\n",
    "    href = link['href']\n",
    "    if href:\n",
    "        # ?page=\n",
    "        print(\"https://shopee.co.th\"+href)"
   ]
  }
 ],
 "metadata": {
  "kernelspec": {
   "display_name": "Python 3",
   "language": "python",
   "name": "python3"
  },
  "language_info": {
   "codemirror_mode": {
    "name": "ipython",
    "version": 3
   },
   "file_extension": ".py",
   "mimetype": "text/x-python",
   "name": "python",
   "nbconvert_exporter": "python",
   "pygments_lexer": "ipython3",
   "version": "3.11.7"
  }
 },
 "nbformat": 4,
 "nbformat_minor": 2
}
