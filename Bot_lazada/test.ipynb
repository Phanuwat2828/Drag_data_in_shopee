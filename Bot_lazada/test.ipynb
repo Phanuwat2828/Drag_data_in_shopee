{
 "cells": [
  {
   "cell_type": "code",
   "execution_count": 1,
   "metadata": {},
   "outputs": [],
   "source": [
    "import requests;\n",
    "from PIL import ImageGrab\n",
    "import os"
   ]
  },
  {
   "cell_type": "code",
   "execution_count": 3,
   "metadata": {},
   "outputs": [
    {
     "name": "stdout",
     "output_type": "stream",
     "text": [
      "c:\\gitclone\\Drag_data_in_shopee\\Bot_lazada\\imag\\Error.png\n"
     ]
    }
   ],
   "source": [
    "path_project = os.getcwd()+f'\\\\imag'+'\\\\Error.png'\n",
    "token_line  = '12PezhTC3uVcjGTlwxxmmzIfoHUviIyNi5X8SghZxfG';\n",
    "cath = 'อุปกรณ์-อิเล็กทรอนิกส์';\n",
    "cath_next = 'สุขภาพและความงาม';\n",
    "id_cath = '1_2_4';\n",
    "id_cath_next = '1_2_5';\n",
    "link = 'www.shopee.test'\n",
    "print(path_project);"
   ]
  },
  {
   "cell_type": "code",
   "execution_count": 7,
   "metadata": {},
   "outputs": [
    {
     "name": "stdout",
     "output_type": "stream",
     "text": [
      "<Response [200]>\n"
     ]
    }
   ],
   "source": [
    "def data_image():\n",
    "    try:\n",
    "        ImageGrab.grab().save(path_project)\n",
    "    except Exception as e:\n",
    "        print(e)\n",
    "def lineNotify(message):\n",
    "    payload = {'message':message}\n",
    "    return _lineNotify(payload);\n",
    "def notifyFile(filename):\n",
    "    file = {'imageFile':open(filename,'rb')}\n",
    "    payload = {'message': '\\nรูปจากความผิดพลาด: '}\n",
    "    return _lineNotify(payload,file)\n",
    "\n",
    "def notifyPicture(url):\n",
    "    payload = {'message':\" \",'imageThumbnail':url,'imageFullsize':url}\n",
    "    return _lineNotify(payload)\n",
    "\n",
    "def notifySticker(stickerID,stickerPackageID):\n",
    "    payload = {'message':\" \",'stickerPackageId':stickerPackageID,'stickerId':stickerID}\n",
    "    return _lineNotify(payload)\n",
    "\n",
    "def _lineNotify(payload,file=None):\n",
    "    import requests\n",
    "    url = 'https://notify-api.line.me/api/notify'\n",
    "\t#EDIT\n",
    "    headers = {'Authorization':'Bearer '+token_line}\n",
    "    return requests.post(url, headers=headers , data = payload, files=file)\n",
    "\n",
    "data_image()\n",
    "# print(lineNotify('Shopee : Working <',cath,'>'),notifyFile(path_project).text)\n",
    "\n",
    "#=================== start ======================\n",
    "# print(lineNotify('\\nShopee: Working \\nGroup: '+cath+'\\nId: '+id_cath))\n",
    "#================================================\n",
    "\n",
    "# #=================== Error ======================\n",
    "status = lineNotify('\\nShopee: Error \\nGroup: '+cath+'\\nId: '+id_cath+'\\nLink: '+link),notifyFile(path_project).text,lineNotify(\"\\nShopee: Stop\")\n",
    "print(status[0]);\n",
    "# #================================================\n",
    "\n",
    "#=================== Success and Next Id ======================\n",
    "# print(lineNotify('\\nShopee: Success Id \\nGroup: '+cath+'\\nId: '+id_cath))\n",
    "# print(lineNotify('\\nShopee: Next Id \\nGroup: '+cath+'\\nId: '+id_cath_next))\n",
    "#================================================\n",
    "\n",
    "#=================== Success and Next group ======================\n",
    "# print(lineNotify('\\nShopee: Success Group \\nGroup: '+cath+'\\nId: '+id_cath))\n",
    "# print(lineNotify('\\nShopee: Next Group \\nGroup: '+cath+'\\nId: '+id_cath_next))\n",
    "#================================================\n",
    "\n",
    "os.remove(path_project);"
   ]
  }
 ],
 "metadata": {
  "kernelspec": {
   "display_name": "Python 3",
   "language": "python",
   "name": "python3"
  },
  "language_info": {
   "codemirror_mode": {
    "name": "ipython",
    "version": 3
   },
   "file_extension": ".py",
   "mimetype": "text/x-python",
   "name": "python",
   "nbconvert_exporter": "python",
   "pygments_lexer": "ipython3",
   "version": "3.11.8"
  }
 },
 "nbformat": 4,
 "nbformat_minor": 2
}
