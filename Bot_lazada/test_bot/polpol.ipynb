{
 "cells": [
  {
   "cell_type": "markdown",
   "metadata": {},
   "source": [
    "## การเซ็ตบอทให้ส่งข้อมูลมาบันทึกที่ API"
   ]
  },
  {
   "cell_type": "markdown",
   "metadata": {},
   "source": [
    "1.ที่ฟังก์ชัน API ให้นำตัวนี้ไปใช้ แล้วปรับรูปพารามิดเตอร์เข้ามาให้ถูกตรง\n",
    "\n",
    "\n",
    "f'{uri_API}?idshop={idshop}&&lnik={link}&&date={date}&&time={time}&&website={website}'"
   ]
  },
  {
   "cell_type": "markdown",
   "metadata": {},
   "source": [
    "{\n",
    "    idshop:\"ไอดี shop1_1_1\",\n",
    "    link:\"ลิ้งค์ของ shop1_1\",\n",
    "    date:\"วัน-เดือน-ปี\",\n",
    "    time:\"ชั่วโมง-นาที-วินาที\",\n",
    "    website:\"shoppee ,lazada\",\n",
    "    data:[\"สินค้า ...array\"]\n",
    "}"
   ]
  },
  {
   "cell_type": "markdown",
   "metadata": {},
   "source": [
    "2.ตรง process_data ให้จัดรูปแบบตามนี้"
   ]
  },
  {
   "cell_type": "markdown",
   "metadata": {},
   "source": [
    "\n",
    "\n",
    "{\n",
    "    maket:\"lazada,shopee\",\n",
    "    gruop:\"อุปกรณ์-อิเล็กทรอนิกส์\",\n",
    "    date:\"วัน-เดือน-ปี\",\n",
    "    time:\"ชั่วโมง-นาที-วินาที\",\n",
    "    link:\"เอาลิ้งค์ของหน้านั้มาด้วย page=? เอาลิ้งค์มาเลย\"\n",
    "    product:\n",
    "    price_product_1:\n",
    "    price_product_2:\n",
    "    image_product_1:\n",
    "    image_product_2:\n",
    "    discount:\n",
    "    data_product:\n",
    "    price_before:\n",
    "    Emoji:\n",
    "    sold:\n",
    "    place:\n",
    "    Recommended_shops:\n",
    "    count_review:\n",
    "}"
   ]
  }
 ],
 "metadata": {
  "language_info": {
   "name": "python"
  }
 },
 "nbformat": 4,
 "nbformat_minor": 2
}
