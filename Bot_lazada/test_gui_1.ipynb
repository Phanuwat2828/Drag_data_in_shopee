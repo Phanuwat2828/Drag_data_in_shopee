{
 "cells": [
  {
   "cell_type": "code",
   "execution_count": 3,
   "metadata": {},
   "outputs": [],
   "source": [
    "import tkinter as tk\n",
    "from tkinter import ttk\n",
    "\n",
    "root = tk.Tk()\n",
    "root.geometry('400x400')\n",
    "root.tk_setPalette(background='#ececec')\n",
    "root.option_add('*Font', 'Arial 12')\n",
    "\n",
    "font_thai = ('Arial', 12)\n",
    "\n",
    "\n",
    "# สร้างรายการตัวเลือกที่มี index เป็นตัวเลข\n",
    "options = [str(i) for i in range(30)]\n",
    "\n",
    "selected_value_var = tk.StringVar()\n",
    "\n",
    "def on_dropdown_change(event):\n",
    "    selected_value = event.widget.get()\n",
    "    selected_value_var.set(selected_value)\n",
    "\n",
    "root.title(\"Dropdown with Index in Tkinter\")\n",
    "dropdown = ttk.Combobox(root, textvariable=selected_value_var, values=options, font=font_thai)\n",
    "dropdown.place(width=50)\n",
    "dropdown.set(options[0])\n",
    "dropdown.bind(\"<<ComboboxSelected>>\", on_dropdown_change)\n",
    "\n",
    "root.mainloop()"
   ]
  },
  {
   "cell_type": "code",
   "execution_count": 2,
   "metadata": {},
   "outputs": [
    {
     "ename": "RuntimeError",
     "evalue": "Too early to create variable: no default root window",
     "output_type": "error",
     "traceback": [
      "\u001b[1;31m---------------------------------------------------------------------------\u001b[0m",
      "\u001b[1;31mRuntimeError\u001b[0m                              Traceback (most recent call last)",
      "Cell \u001b[1;32mIn[2], line 17\u001b[0m\n\u001b[0;32m     14\u001b[0m     \u001b[38;5;28;01mpass\u001b[39;00m\n\u001b[0;32m     16\u001b[0m options \u001b[38;5;241m=\u001b[39m [\u001b[38;5;124m'\u001b[39m\u001b[38;5;124mOption 1\u001b[39m\u001b[38;5;124m'\u001b[39m, \u001b[38;5;124m'\u001b[39m\u001b[38;5;124mOption 2\u001b[39m\u001b[38;5;124m'\u001b[39m, \u001b[38;5;124m'\u001b[39m\u001b[38;5;124mOption 3\u001b[39m\u001b[38;5;124m'\u001b[39m]\n\u001b[1;32m---> 17\u001b[0m selected_value \u001b[38;5;241m=\u001b[39m \u001b[43mtk\u001b[49m\u001b[38;5;241;43m.\u001b[39;49m\u001b[43mStringVar\u001b[49m\u001b[43m(\u001b[49m\u001b[43m)\u001b[49m\n\u001b[0;32m     18\u001b[0m selected_value_num_2 \u001b[38;5;241m=\u001b[39m tk\u001b[38;5;241m.\u001b[39mStringVar()\n\u001b[0;32m     20\u001b[0m app \u001b[38;5;241m=\u001b[39m tk\u001b[38;5;241m.\u001b[39mTk()\n",
      "File \u001b[1;32mC:\\Program Files\\WindowsApps\\PythonSoftwareFoundation.Python.3.11_3.11.2032.0_x64__qbz5n2kfra8p0\\Lib\\tkinter\\__init__.py:562\u001b[0m, in \u001b[0;36mStringVar.__init__\u001b[1;34m(self, master, value, name)\u001b[0m\n\u001b[0;32m    552\u001b[0m \u001b[38;5;28;01mdef\u001b[39;00m \u001b[38;5;21m__init__\u001b[39m(\u001b[38;5;28mself\u001b[39m, master\u001b[38;5;241m=\u001b[39m\u001b[38;5;28;01mNone\u001b[39;00m, value\u001b[38;5;241m=\u001b[39m\u001b[38;5;28;01mNone\u001b[39;00m, name\u001b[38;5;241m=\u001b[39m\u001b[38;5;28;01mNone\u001b[39;00m):\n\u001b[0;32m    553\u001b[0m \u001b[38;5;250m    \u001b[39m\u001b[38;5;124;03m\"\"\"Construct a string variable.\u001b[39;00m\n\u001b[0;32m    554\u001b[0m \n\u001b[0;32m    555\u001b[0m \u001b[38;5;124;03m    MASTER can be given as master widget.\u001b[39;00m\n\u001b[1;32m   (...)\u001b[0m\n\u001b[0;32m    560\u001b[0m \u001b[38;5;124;03m    then the existing value is retained.\u001b[39;00m\n\u001b[0;32m    561\u001b[0m \u001b[38;5;124;03m    \"\"\"\u001b[39;00m\n\u001b[1;32m--> 562\u001b[0m     \u001b[43mVariable\u001b[49m\u001b[38;5;241;43m.\u001b[39;49m\u001b[38;5;21;43m__init__\u001b[39;49m\u001b[43m(\u001b[49m\u001b[38;5;28;43mself\u001b[39;49m\u001b[43m,\u001b[49m\u001b[43m \u001b[49m\u001b[43mmaster\u001b[49m\u001b[43m,\u001b[49m\u001b[43m \u001b[49m\u001b[43mvalue\u001b[49m\u001b[43m,\u001b[49m\u001b[43m \u001b[49m\u001b[43mname\u001b[49m\u001b[43m)\u001b[49m\n",
      "File \u001b[1;32mC:\\Program Files\\WindowsApps\\PythonSoftwareFoundation.Python.3.11_3.11.2032.0_x64__qbz5n2kfra8p0\\Lib\\tkinter\\__init__.py:393\u001b[0m, in \u001b[0;36mVariable.__init__\u001b[1;34m(self, master, value, name)\u001b[0m\n\u001b[0;32m    391\u001b[0m \u001b[38;5;28;01mglobal\u001b[39;00m _varnum\n\u001b[0;32m    392\u001b[0m \u001b[38;5;28;01mif\u001b[39;00m master \u001b[38;5;129;01mis\u001b[39;00m \u001b[38;5;28;01mNone\u001b[39;00m:\n\u001b[1;32m--> 393\u001b[0m     master \u001b[38;5;241m=\u001b[39m \u001b[43m_get_default_root\u001b[49m\u001b[43m(\u001b[49m\u001b[38;5;124;43m'\u001b[39;49m\u001b[38;5;124;43mcreate variable\u001b[39;49m\u001b[38;5;124;43m'\u001b[39;49m\u001b[43m)\u001b[49m\n\u001b[0;32m    394\u001b[0m \u001b[38;5;28mself\u001b[39m\u001b[38;5;241m.\u001b[39m_root \u001b[38;5;241m=\u001b[39m master\u001b[38;5;241m.\u001b[39m_root()\n\u001b[0;32m    395\u001b[0m \u001b[38;5;28mself\u001b[39m\u001b[38;5;241m.\u001b[39m_tk \u001b[38;5;241m=\u001b[39m master\u001b[38;5;241m.\u001b[39mtk\n",
      "File \u001b[1;32mC:\\Program Files\\WindowsApps\\PythonSoftwareFoundation.Python.3.11_3.11.2032.0_x64__qbz5n2kfra8p0\\Lib\\tkinter\\__init__.py:319\u001b[0m, in \u001b[0;36m_get_default_root\u001b[1;34m(what)\u001b[0m\n\u001b[0;32m    317\u001b[0m \u001b[38;5;28;01mif\u001b[39;00m _default_root \u001b[38;5;129;01mis\u001b[39;00m \u001b[38;5;28;01mNone\u001b[39;00m:\n\u001b[0;32m    318\u001b[0m     \u001b[38;5;28;01mif\u001b[39;00m what:\n\u001b[1;32m--> 319\u001b[0m         \u001b[38;5;28;01mraise\u001b[39;00m \u001b[38;5;167;01mRuntimeError\u001b[39;00m(\u001b[38;5;124mf\u001b[39m\u001b[38;5;124m\"\u001b[39m\u001b[38;5;124mToo early to \u001b[39m\u001b[38;5;132;01m{\u001b[39;00mwhat\u001b[38;5;132;01m}\u001b[39;00m\u001b[38;5;124m: no default root window\u001b[39m\u001b[38;5;124m\"\u001b[39m)\n\u001b[0;32m    320\u001b[0m     root \u001b[38;5;241m=\u001b[39m Tk()\n\u001b[0;32m    321\u001b[0m     \u001b[38;5;28;01massert\u001b[39;00m _default_root \u001b[38;5;129;01mis\u001b[39;00m root\n",
      "\u001b[1;31mRuntimeError\u001b[0m: Too early to create variable: no default root window"
     ]
    }
   ],
   "source": [
    "options = ['สุขภาพและความงาม',\n",
    "    'แฟชั่นและเครื่องประดับผู้ชาย',\n",
    "    'แฟชั่นและเครื่องประดับผู้หญิง',\n",
    "    'ทีวีและเครื่องใช้ในบ้าน',\n",
    "    'อุปกรณ์-อิเล็กทรอนิกส์',\n",
    "    'อุปกรณ์เสริม-อิเล็กทรอนิกส์',\n",
    "    'ของชำและสัตว์เลี้ยง',\n",
    "    'ทารกและของเล่น',\n",
    "    'ยานยนต์และรถจักรยานยนต์',\n",
    "    'กีฬาและการเดินทาง',\n",
    "    'บ้านและไลฟ์สไตล์', \n",
    "    \"ตั๋วและบัตรกำนัน\"\n",
    "]\n",
    "\n",
    "def on_dropdown_change(event):\n",
    "    selected_value.set(event.widget.get())\n",
    "    number_dropdown_2()\n",
    "\n",
    "def number_dropdown_2():\n",
    "    # Your logic here\n",
    "    pass\n",
    "\n",
    "def on_dropdown_num_change(event):\n",
    "    selected_value_num_2.set(event.widget.get())\n",
    "\n",
    "# *************************************************************\n",
    "\n",
    "showStatusBot.set(\"สถาณะการทำงาน : ยังไม่ทำงาน\")\n",
    "dropdown = ttk.Combobox(app, textvariable=selected_value, values=options)\n",
    "dropdown.place(x=20, y=90)\n",
    "titleStatusbot = Label(app, textvariable=showStatusBot)\n",
    "titleStatusbot.place(x=20, y=560)\n",
    "dropdown.set(options[0])\n",
    "dropdown.bind(\"<<ComboboxSelected>>\", on_dropdown_change)\n",
    "\n",
    "# *************************************************************\n",
    "# num_2\n",
    "\n",
    "dropdown_num = ttk.Combobox(app, textvariable=selected_value_num_2)\n",
    "dropdown_num.place(width=50, x=175, y=90)\n",
    "dropdown_num.bind(\"<<ComboboxSelected>>\", on_dropdown_num_change)\n",
    "\n",
    "\n"
   ]
  },
  {
   "cell_type": "code",
   "execution_count": 3,
   "metadata": {},
   "outputs": [
    {
     "ename": "AttributeError",
     "evalue": "'function' object has no attribute 'set'",
     "output_type": "error",
     "traceback": [
      "\u001b[1;31m---------------------------------------------------------------------------\u001b[0m",
      "\u001b[1;31mAttributeError\u001b[0m                            Traceback (most recent call last)",
      "Cell \u001b[1;32mIn[3], line 6\u001b[0m\n\u001b[0;32m      3\u001b[0m \u001b[38;5;28;01mdef\u001b[39;00m \u001b[38;5;21mtest\u001b[39m():\n\u001b[0;32m      4\u001b[0m     test\u001b[38;5;241m.\u001b[39mset(\u001b[38;5;241m10\u001b[39m);\n\u001b[1;32m----> 6\u001b[0m \u001b[43mtest\u001b[49m\u001b[43m(\u001b[49m\u001b[43m)\u001b[49m\n\u001b[0;32m      7\u001b[0m \u001b[38;5;28mprint\u001b[39m(test)\n",
      "Cell \u001b[1;32mIn[3], line 4\u001b[0m, in \u001b[0;36mtest\u001b[1;34m()\u001b[0m\n\u001b[0;32m      3\u001b[0m \u001b[38;5;28;01mdef\u001b[39;00m \u001b[38;5;21mtest\u001b[39m():\n\u001b[1;32m----> 4\u001b[0m     \u001b[43mtest\u001b[49m\u001b[38;5;241;43m.\u001b[39;49m\u001b[43mset\u001b[49m(\u001b[38;5;241m10\u001b[39m)\n",
      "\u001b[1;31mAttributeError\u001b[0m: 'function' object has no attribute 'set'"
     ]
    }
   ],
   "source": [
    "\n",
    "test = 0;\n",
    "\n",
    "def test():\n",
    "    test.set(10);\n",
    "\n",
    "test()\n",
    "print(test)\n"
   ]
  }
 ],
 "metadata": {
  "kernelspec": {
   "display_name": "Python 3",
   "language": "python",
   "name": "python3"
  },
  "language_info": {
   "codemirror_mode": {
    "name": "ipython",
    "version": 3
   },
   "file_extension": ".py",
   "mimetype": "text/x-python",
   "name": "python",
   "nbconvert_exporter": "python",
   "pygments_lexer": "ipython3",
   "version": "3.11.7"
  }
 },
 "nbformat": 4,
 "nbformat_minor": 2
}
