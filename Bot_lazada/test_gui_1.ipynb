{
 "cells": [
  {
   "cell_type": "code",
   "execution_count": 3,
   "metadata": {},
   "outputs": [],
   "source": [
    "import tkinter as tk\n",
    "from tkinter import ttk\n",
    "\n",
    "root = tk.Tk()\n",
    "root.geometry('400x400')\n",
    "root.tk_setPalette(background='#ececec')\n",
    "root.option_add('*Font', 'Arial 12')\n",
    "\n",
    "font_thai = ('Arial', 12)\n",
    "\n",
    "\n",
    "# สร้างรายการตัวเลือกที่มี index เป็นตัวเลข\n",
    "options = [str(i) for i in range(30)]\n",
    "\n",
    "selected_value_var = tk.StringVar()\n",
    "\n",
    "def on_dropdown_change(event):\n",
    "    selected_value = event.widget.get()\n",
    "    selected_value_var.set(selected_value)\n",
    "\n",
    "root.title(\"Dropdown with Index in Tkinter\")\n",
    "dropdown = ttk.Combobox(root, textvariable=selected_value_var, values=options, font=font_thai)\n",
    "dropdown.place(width=50)\n",
    "dropdown.set(options[0])\n",
    "dropdown.bind(\"<<ComboboxSelected>>\", on_dropdown_change)\n",
    "\n",
    "root.mainloop()"
   ]
  },
  {
   "cell_type": "code",
   "execution_count": 8,
   "metadata": {},
   "outputs": [],
   "source": [
    "import tkinter as tk\n",
    "from tkinter import ttk,StringVar;\n",
    "\n",
    "def create_dropdown():\n",
    "    options = ['Option 1', 'Option 2', 'Option 3']  # ตัวอย่างของตัวเลือก\n",
    "    dropdown = ttk.Combobox(root, values=options)\n",
    "    dropdown.pack()\n",
    "\n",
    "root = tk.Tk()\n",
    "\n",
    "# สร้าง dropdown หลังจากที่โปรแกรมรันเสร็จเรียบร้อยแล้ว\n",
    "status = StringVar();\n",
    "status.set(0)\n",
    "def change_num():\n",
    "    status.set(1);\n",
    "change_num()\n",
    "if(int(status.get() )==1):\n",
    "    root.after(1000, create_dropdown) \n",
    " # รอเวลา 1000 milliseconds (1 วินาที) ก่อนที่จะสร้าง dropdown\n",
    "\n",
    "root.mainloop()\n"
   ]
  },
  {
   "cell_type": "code",
   "execution_count": 3,
   "metadata": {},
   "outputs": [
    {
     "ename": "AttributeError",
     "evalue": "'function' object has no attribute 'set'",
     "output_type": "error",
     "traceback": [
      "\u001b[1;31m---------------------------------------------------------------------------\u001b[0m",
      "\u001b[1;31mAttributeError\u001b[0m                            Traceback (most recent call last)",
      "Cell \u001b[1;32mIn[3], line 6\u001b[0m\n\u001b[0;32m      3\u001b[0m \u001b[38;5;28;01mdef\u001b[39;00m \u001b[38;5;21mtest\u001b[39m():\n\u001b[0;32m      4\u001b[0m     test\u001b[38;5;241m.\u001b[39mset(\u001b[38;5;241m10\u001b[39m);\n\u001b[1;32m----> 6\u001b[0m \u001b[43mtest\u001b[49m\u001b[43m(\u001b[49m\u001b[43m)\u001b[49m\n\u001b[0;32m      7\u001b[0m \u001b[38;5;28mprint\u001b[39m(test)\n",
      "Cell \u001b[1;32mIn[3], line 4\u001b[0m, in \u001b[0;36mtest\u001b[1;34m()\u001b[0m\n\u001b[0;32m      3\u001b[0m \u001b[38;5;28;01mdef\u001b[39;00m \u001b[38;5;21mtest\u001b[39m():\n\u001b[1;32m----> 4\u001b[0m     \u001b[43mtest\u001b[49m\u001b[38;5;241;43m.\u001b[39;49m\u001b[43mset\u001b[49m(\u001b[38;5;241m10\u001b[39m)\n",
      "\u001b[1;31mAttributeError\u001b[0m: 'function' object has no attribute 'set'"
     ]
    }
   ],
   "source": [
    "\n",
    "test = 0;\n",
    "\n",
    "def test():\n",
    "    test.set(10);\n",
    "\n",
    "test()\n",
    "print(test)\n"
   ]
  }
 ],
 "metadata": {
  "kernelspec": {
   "display_name": "Python 3",
   "language": "python",
   "name": "python3"
  },
  "language_info": {
   "codemirror_mode": {
    "name": "ipython",
    "version": 3
   },
   "file_extension": ".py",
   "mimetype": "text/x-python",
   "name": "python",
   "nbconvert_exporter": "python",
   "pygments_lexer": "ipython3",
   "version": "3.11.7"
  }
 },
 "nbformat": 4,
 "nbformat_minor": 2
}
