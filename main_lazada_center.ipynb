{
 "cells": [
  {
   "cell_type": "code",
   "execution_count": 1,
   "metadata": {},
   "outputs": [],
   "source": [
    "# get data from selenium \n",
    "import pandas as pd\n",
    "from selenium import webdriver\n",
    "from selenium.webdriver.firefox.options import Options\n",
    "from selenium.webdriver.common.keys import Keys\n",
    "import bs4\n",
    "import time\n",
    "import re\n",
    "from selenium.webdriver.common.by import By"
   ]
  },
  {
   "cell_type": "code",
   "execution_count": 3,
   "metadata": {},
   "outputs": [
    {
     "name": "stdout",
     "output_type": "stream",
     "text": [
      "https://www.lazada.co.th/products/led-led-i5020286043.html\n",
      "https://www.lazada.co.th/products/qixing-led-led-i5020168629.html\n",
      "https://www.lazada.co.th/products/b9giqy5ex-i5020157179.html\n",
      "https://www.lazada.co.th/products/benlei-led-led-i5020059867.html\n",
      "https://www.lazada.co.th/products/led-led-tuo29-i5019720381.html\n",
      "https://www.lazada.co.th/products/animal-led-led-i5019689403.html\n",
      "https://www.lazada.co.th/products/gorge-i5019654879.html\n",
      "https://www.lazada.co.th/products/zoataal-led-led-i5019641149.html\n",
      "https://www.lazada.co.th/products/scofield-led-led-i5019591349.html\n",
      "https://www.lazada.co.th/products/led-led-i5019577792.html\n",
      "https://www.lazada.co.th/products/led-led-i5019446841.html\n",
      "https://www.lazada.co.th/products/duxun-led-led-i5019406158.html\n",
      "https://www.lazada.co.th/products/society78ty6-i5019392633.html\n",
      "https://www.lazada.co.th/products/society78ty6-tali-bahu-i5019383702.html\n",
      "https://www.lazada.co.th/products/dvfda-led-led-i5019358373.html\n",
      "https://www.lazada.co.th/products/led-tkc28-led-i5019329487.html\n",
      "https://www.lazada.co.th/products/jessiem-led-led-i5019318541.html\n",
      "https://www.lazada.co.th/products/led-n814l-led-i5019312539.html\n",
      "https://www.lazada.co.th/products/broadfashion-motorcycle-elbow-knee-pads-for-men-women-knee-elbow-guard-protector-ventilation-protective-gear-for-cycling-bike-skateboarding-inline-roller-skating-bicycle-scooter-i5019180500.html\n",
      "https://www.lazada.co.th/products/rm-atv-utv-atv-utv-i5018765469.html\n",
      "https://www.lazada.co.th/products/dsklqz-led-led-i5018664530.html\n",
      "https://www.lazada.co.th/products/rm4-atv-i5018582828.html\n",
      "https://www.lazada.co.th/products/led-led-i5018560403.html\n",
      "https://www.lazada.co.th/products/chengi-led-led-i5018559436.html\n",
      "https://www.lazada.co.th/products/pingere-led-led-i5018486867.html\n",
      "https://www.lazada.co.th/products/gallope-led-led-i5018482890.html\n",
      "https://www.lazada.co.th/products/rm-i5018443824.html\n",
      "https://www.lazada.co.th/products/led-led-i5018398780.html\n",
      "https://www.lazada.co.th/products/yamarka-i5018153828.html\n",
      "https://www.lazada.co.th/products/season-led-led-i5018119370.html\n",
      "https://www.lazada.co.th/products/leadingstar-rc-authentic-women-men-winter-knee-warmers-knee-sleeves-thicken-knee-supports-knee-pads-wrap-for-joint-pain-arthritis-1-pair-i5017856082.html\n",
      "https://www.lazada.co.th/products/fdbqv-i5017363237.html\n",
      "https://www.lazada.co.th/products/leadingstar-rc-authentic-motorcycle-knee-pads-protector-winter-windproof-leg-warmers-long-leg-cover-reflective-riding-safety-gear-for-outdoor-activities-i5017329754.html\n",
      "https://www.lazada.co.th/products/faka-led-led-i5017245380.html\n",
      "https://www.lazada.co.th/products/pengq-led-led-i5016947016.html\n",
      "https://www.lazada.co.th/products/led-led-i5016881044.html\n",
      "https://www.lazada.co.th/products/dzysgy-led-led-i5016864645.html\n",
      "https://www.lazada.co.th/products/led-rp5brd-led-i5016825904.html\n",
      "https://www.lazada.co.th/products/unqin-led-led-i5016764726.html\n",
      "https://www.lazada.co.th/products/pingere-shifter-i5016654668.html\n",
      "40\n"
     ]
    }
   ],
   "source": [
    "# link product\n",
    "\n",
    "driver = webdriver.Chrome()\n",
    "driver.get('https:////www.lazada.co.th/shop-motorcycle-atv-protective-gear/?page=&?spm=a2o4m.home-th.3887232320.46.3a8d7f6dvzndMU')\n",
    "# Find elements on the page using XPath\n",
    "# elements = driver.find_elements_by_xpath('//*[@id=\"root\"]/div/div[2]/div[1]/div/div[1]')\n",
    "# //*[@id=\"root\"]/div/div[2]/div[1]/div/div[1]/div[2]/div[1]\n",
    "# //*[@id=\"root\"]/div/div[2]/div[1]/div/div[1]\n",
    "# Find elements on the page using XPath\n",
    "\n",
    "elements_a = driver.find_elements(By.CLASS_NAME,'_95X4G')\n",
    "# สร้างรายการเก็บข้อมูล\n",
    "\n",
    "\n",
    "Dat_All = []\n",
    "# index3\n",
    "# ดึงลิงค์จากแต่ละ element และเพิ่มลงในรายการ\n",
    "for link in elements_a:\n",
    "    a = link.find_elements(By.TAG_NAME,'a');\n",
    "    for link_a in a:\n",
    "        href = link_a.get_attribute('href');\n",
    "        if href in Dat_All:\n",
    "            continue;\n",
    "        else:\n",
    "            Dat_All.append(href);\n",
    "\n",
    "# พิมพ์หรือใช้ลิงค์ตามต้องการ\n",
    "for i in range(len(Dat_All)):\n",
    "    print(Dat_All[i])\n",
    "    \n",
    "print(len(Dat_All));\n",
    "# Close the WebD\n",
    "driver.quit()"
   ]
  },
  {
   "cell_type": "code",
   "execution_count": null,
   "metadata": {},
   "outputs": [],
   "source": []
  }
 ],
 "metadata": {
  "kernelspec": {
   "display_name": "Python 3",
   "language": "python",
   "name": "python3"
  },
  "language_info": {
   "codemirror_mode": {
    "name": "ipython",
    "version": 3
   },
   "file_extension": ".py",
   "mimetype": "text/x-python",
   "name": "python",
   "nbconvert_exporter": "python",
   "pygments_lexer": "ipython3",
   "version": "3.11.7"
  }
 },
 "nbformat": 4,
 "nbformat_minor": 2
}
