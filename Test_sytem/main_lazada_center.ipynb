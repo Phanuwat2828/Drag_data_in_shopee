{
 "cells": [
  {
   "cell_type": "code",
   "execution_count": 4,
   "metadata": {},
   "outputs": [
    {
     "name": "stdout",
     "output_type": "stream",
     "text": [
      "Path ของ Jupyter Notebook ที่กำลังรัน: c:\\Drag_data_in_shopee\\Test_sytem\n"
     ]
    }
   ],
   "source": [
    "import os;\n",
    "current_directory = os.getcwd();\n",
    "print(current_directory)"
   ]
  },
  {
   "cell_type": "code",
   "execution_count": 1,
   "metadata": {},
   "outputs": [],
   "source": [
    "# get data from selenium \n",
    "import pandas as pd\n",
    "from selenium import webdriver\n",
    "from selenium.webdriver.firefox.options import Options\n",
    "from selenium.webdriver.common.keys import Keys\n",
    "import bs4\n",
    "import time\n",
    "import re\n",
    "from selenium.webdriver.common.by import By"
   ]
  },
  {
   "cell_type": "code",
   "execution_count": 2,
   "metadata": {},
   "outputs": [
    {
     "name": "stdout",
     "output_type": "stream",
     "text": [
      "https://www.lazada.co.th/products/-i4312861717.html\n",
      "https://www.lazada.co.th/products/m6-10-m8-12-m10-14-i2366552184.html\n",
      "https://www.lazada.co.th/products/-i1578936772.html\n",
      "https://www.lazada.co.th/products/motowolf-1901-i919936673.html\n",
      "https://www.lazada.co.th/products/red-dragon-mx-guard-chest-chest-body-protector-for-bike-i932914470.html\n",
      "https://www.lazada.co.th/products/-i234302777.html\n",
      "https://www.lazada.co.th/products/rino-guard-i2159836075.html\n",
      "https://www.lazada.co.th/products/y-i4318490326.html\n",
      "https://www.lazada.co.th/products/vemar-s-183-leggings-i1353408916.html\n",
      "https://www.lazada.co.th/products/wave125i-2012-i2115030006.html\n",
      "https://www.lazada.co.th/products/reuben-i4235265526.html\n",
      "https://www.lazada.co.th/products/vemar-s-183-leggings-i4241128667.html\n",
      "https://www.lazada.co.th/products/moto-safety-belt-i1050084143.html\n",
      "https://www.lazada.co.th/products/wt1-h-eadwear-1cod-i4247747922.html\n",
      "https://www.lazada.co.th/products/motowolf-mdl-1906-uv-i1831740437.html\n",
      "https://www.lazada.co.th/products/2-i7500021.html\n",
      "https://www.lazada.co.th/products/crazy-deal-t8f-44t-i306856121.html\n",
      "https://www.lazada.co.th/products/universal-60-retractable-i2679679915.html\n",
      "https://www.lazada.co.th/products/-i4390889956.html\n",
      "https://www.lazada.co.th/products/wave125i-2012-125i-i2088062414.html\n",
      "https://www.lazada.co.th/products/waca-touched-screen-gloves-for-motorcycle-pro-biker-602-fsa-i764196071.html\n",
      "https://www.lazada.co.th/products/-i4955080551.html\n",
      "https://www.lazada.co.th/products/uv-ice-silk-i4620987838.html\n",
      "https://www.lazada.co.th/products/motorcycle-disc-lock-i7794172.html\n",
      "https://www.lazada.co.th/products/revit-back-protector-seesoft-air-new-2022-i3699598977.html\n",
      "https://www.lazada.co.th/products/y-i3579028013.html\n",
      "https://www.lazada.co.th/products/jiekai-105fast-i3775676993.html\n",
      "https://www.lazada.co.th/products/vemar-s-183-i355060192.html\n",
      "https://www.lazada.co.th/products/atv-quad-gear-i4166082345.html\n",
      "https://www.lazada.co.th/products/wt-cod-i4545625028.html\n",
      "https://www.lazada.co.th/products/vemar-s-183-leggings-i2282789406.html\n",
      "https://www.lazada.co.th/products/1-i3349283696.html\n",
      "https://www.lazada.co.th/products/cclight-eva-i2458243346.html\n",
      "https://www.lazada.co.th/products/vemar-s-183-i2265932342.html\n",
      "https://www.lazada.co.th/products/vemar-s-183-leggings-i4160876679.html\n",
      "https://www.lazada.co.th/products/ce-i3069911434.html\n",
      "https://www.lazada.co.th/products/4-i4868326114.html\n",
      "https://www.lazada.co.th/products/motowolf-100-mdl-1906-uv-i2430019427.html\n",
      "https://www.lazada.co.th/products/bmw-r1200-gs-bm02-i1349242332.html\n",
      "https://www.lazada.co.th/products/komine-ce-level-2-s-04-812-sk-812-i4783969262.html\n",
      "40\n"
     ]
    }
   ],
   "source": [
    "# link product\n",
    "\n",
    "driver = webdriver.Chrome()\n",
    "driver.get('https:////www.lazada.co.th/shop-motorcycle-atv-protective-gear/?page=&?spm=a2o4m.home-th.3887232320.46.3a8d7f6dvzndMU')\n",
    "# Find elements on the page using XPath\n",
    "# elements = driver.find_elements_by_xpath('//*[@id=\"root\"]/div/div[2]/div[1]/div/div[1]')\n",
    "# //*[@id=\"root\"]/div/div[2]/div[1]/div/div[1]/div[2]/div[1]\n",
    "# //*[@id=\"root\"]/div/div[2]/div[1]/div/div[1]\n",
    "# Find elements on the page using XPath\n",
    "\n",
    "elements_a = driver.find_elements(By.CLASS_NAME,'_95X4G')\n",
    "# สร้างรายการเก็บข้อมูล\n",
    "\n",
    "\n",
    "Dat_All = []\n",
    "# index3\n",
    "# ดึงลิงค์จากแต่ละ element และเพิ่มลงในรายการ\n",
    "for link in elements_a:\n",
    "    a = link.find_elements(By.TAG_NAME,'a');\n",
    "    for link_a in a:\n",
    "        href = link_a.get_attribute('href');\n",
    "        if href in Dat_All:\n",
    "            continue;\n",
    "        else:\n",
    "            Dat_All.append(href);\n",
    "\n",
    "# พิมพ์หรือใช้ลิงค์ตามต้องการ\n",
    "for i in range(len(Dat_All)):\n",
    "    print(Dat_All[i])\n",
    "    \n",
    "print(len(Dat_All));\n",
    "# Close the WebD\n",
    "driver.quit()"
   ]
  },
  {
   "cell_type": "code",
   "execution_count": null,
   "metadata": {},
   "outputs": [],
   "source": []
  }
 ],
 "metadata": {
  "kernelspec": {
   "display_name": "Python 3",
   "language": "python",
   "name": "python3"
  },
  "language_info": {
   "codemirror_mode": {
    "name": "ipython",
    "version": 3
   },
   "file_extension": ".py",
   "mimetype": "text/x-python",
   "name": "python",
   "nbconvert_exporter": "python",
   "pygments_lexer": "ipython3",
   "version": "3.11.7"
  }
 },
 "nbformat": 4,
 "nbformat_minor": 2
}
