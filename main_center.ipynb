{
 "cells": [
  {
   "cell_type": "code",
   "execution_count": 1,
   "metadata": {},
   "outputs": [],
   "source": [
    "def data_link_product():\n",
    "    url=['https://shopee.co.th/%E0%B9%80%E0%B8%84%E0%B8%A3%E0%B8%B7%E0%B9%88%E0%B8%AD%E0%B8%87%E0%B8%9B%E0%B8%A3%E0%B8%B0%E0%B8%94%E0%B8%B1%E0%B8%9A-cat.11044954?page='];\n",
    "    return url"
   ]
  },
  {
   "cell_type": "code",
   "execution_count": 4,
   "metadata": {},
   "outputs": [],
   "source": [
    "import requests\n",
    "from bs4 import BeautifulSoup as b\n",
    "import pandas as pd\n",
    "\n",
    "def get_link(i):\n",
    "    url = data_link_product();\n",
    "    data_link_all=[];\n",
    "    page = requests.get(url[i])\n",
    "    data_link_all.append(url[i]);\n",
    "    soup = b(page.content,'html.parser')\n",
    "    all_link = soup.find_all('a',class_ = 'grid-cell grid-cell--with-titles');\n",
    "    for link in all_link:\n",
    "        href = link['href']\n",
    "        if href:\n",
    "            data = \"https://shopee.co.th\"+href+\"?page=\";\n",
    "            data_link_all.append(data);\n",
    "    print(data_link_all)\n",
    "    return(data_link_all);"
   ]
  },
  {
   "cell_type": "code",
   "execution_count": 5,
   "metadata": {},
   "outputs": [
    {
     "name": "stdout",
     "output_type": "stream",
     "text": [
      "['https://shopee.co.th/%E0%B9%80%E0%B8%84%E0%B8%A3%E0%B8%B7%E0%B9%88%E0%B8%AD%E0%B8%87%E0%B8%9B%E0%B8%A3%E0%B8%B0%E0%B8%94%E0%B8%B1%E0%B8%9A-cat.11044954?page=', 'https://shopee.co.th/แหวน-cat.11044954.11045141?page=', 'https://shopee.co.th/สร้อยคอ-cat.11044954.11045143?page=', 'https://shopee.co.th/ต่างหู-cat.11044954.11045150?page=', 'https://shopee.co.th/ผ้าพันคอและผ้าคลุมไหล่-cat.11044954.11045145?page=', 'https://shopee.co.th/ผ้าเช็ดหน้า-cat.11044954.11045146?page=', 'https://shopee.co.th/เนคไทและโบว์ไท-cat.11044954.11045147?page=', 'https://shopee.co.th/หมวก-cat.11044954.11045142?page=', 'https://shopee.co.th/ถุงมือ-cat.11044954.11045149?page=', 'https://shopee.co.th/เพชร-cat.11044954.11045144?page=', 'https://shopee.co.th/ทอง-cat.11044954.11045148?page=', 'https://shopee.co.th/เครื่องประดับทอง-cat.11044954.11045153?page=', 'https://shopee.co.th/จี้และเครื่องประดับเสริม-cat.11044954.11045151?page=', 'https://shopee.co.th/เครื่องประดับผม-cat.11044954.11045152?page=', 'https://shopee.co.th/เข็มขัด-cat.11044954.11045154?page=', 'https://shopee.co.th/กำไลข้อเท้า-cat.11044954.11045155?page=', 'https://shopee.co.th/กำไล-cat.11044954.11045156?page=', 'https://shopee.co.th/กระดุมข้อมือ-cat.11044954.11045157?page=']\n"
     ]
    }
   ],
   "source": [
    "get_link(0);"
   ]
  },
  {
   "cell_type": "code",
   "execution_count": 3,
   "metadata": {},
   "outputs": [
    {
     "name": "stdout",
     "output_type": "stream",
     "text": [
      "https://shopee.co.th/%E0%B9%80%E0%B8%84%E0%B8%A3%E0%B8%B7%E0%B9%88%E0%B8%AD%E0%B8%87%E0%B8%9B%E0%B8%A3%E0%B8%B0%E0%B8%94%E0%B8%B1%E0%B8%9A-cat.11044954?page=0\n",
      "https://shopee.co.th/%E0%B9%80%E0%B8%84%E0%B8%A3%E0%B8%B7%E0%B9%88%E0%B8%AD%E0%B8%87%E0%B8%9B%E0%B8%A3%E0%B8%B0%E0%B8%94%E0%B8%B1%E0%B8%9A-cat.11044954?page=1\n",
      "https://shopee.co.th/%E0%B9%80%E0%B8%84%E0%B8%A3%E0%B8%B7%E0%B9%88%E0%B8%AD%E0%B8%87%E0%B8%9B%E0%B8%A3%E0%B8%B0%E0%B8%94%E0%B8%B1%E0%B8%9A-cat.11044954?page=2\n"
     ]
    },
    {
     "ename": "KeyboardInterrupt",
     "evalue": "",
     "output_type": "error",
     "traceback": [
      "\u001b[1;31m---------------------------------------------------------------------------\u001b[0m",
      "\u001b[1;31mKeyboardInterrupt\u001b[0m                         Traceback (most recent call last)",
      "Cell \u001b[1;32mIn[3], line 85\u001b[0m\n\u001b[0;32m     83\u001b[0m \u001b[38;5;28;01mfor\u001b[39;00m j \u001b[38;5;129;01min\u001b[39;00m \u001b[38;5;28mrange\u001b[39m(\u001b[38;5;241m9\u001b[39m):\n\u001b[0;32m     84\u001b[0m     data_sum\u001b[38;5;241m=\u001b[39mData[i]\u001b[38;5;241m+\u001b[39m\u001b[38;5;28mstr\u001b[39m(num1);\n\u001b[1;32m---> 85\u001b[0m     \u001b[43mmain\u001b[49m\u001b[43m(\u001b[49m\u001b[43mdata_sum\u001b[49m\u001b[43m)\u001b[49m;\n\u001b[0;32m     86\u001b[0m     num1\u001b[38;5;241m+\u001b[39m\u001b[38;5;241m=\u001b[39m\u001b[38;5;241m1\u001b[39m;\n\u001b[0;32m     87\u001b[0m     changdeta_and_changename(num2,num1);\n",
      "Cell \u001b[1;32mIn[3], line 42\u001b[0m, in \u001b[0;36mmain\u001b[1;34m(x)\u001b[0m\n\u001b[0;32m     39\u001b[0m custom_sleep(\u001b[38;5;241m1\u001b[39m);\n\u001b[0;32m     40\u001b[0m click(\u001b[38;5;241m1257\u001b[39m, \u001b[38;5;241m191\u001b[39m);\n\u001b[1;32m---> 42\u001b[0m \u001b[43mScoll\u001b[49m\u001b[43m(\u001b[49m\u001b[43m)\u001b[49m;\n\u001b[0;32m     43\u001b[0m \u001b[38;5;66;03m# เลือกส่วนขยาย\u001b[39;00m\n\u001b[0;32m     44\u001b[0m click(\u001b[38;5;241m1183\u001b[39m, \u001b[38;5;241m61\u001b[39m)\n",
      "Cell \u001b[1;32mIn[3], line 15\u001b[0m, in \u001b[0;36mScoll\u001b[1;34m()\u001b[0m\n\u001b[0;32m     13\u001b[0m custom_sleep(\u001b[38;5;241m6\u001b[39m);\n\u001b[0;32m     14\u001b[0m pyautogui\u001b[38;5;241m.\u001b[39mscroll(\u001b[38;5;241m-\u001b[39m\u001b[38;5;241m2000\u001b[39m);\n\u001b[1;32m---> 15\u001b[0m \u001b[43mcustom_sleep\u001b[49m\u001b[43m(\u001b[49m\u001b[38;5;241;43m6\u001b[39;49m\u001b[43m)\u001b[49m\n\u001b[0;32m     16\u001b[0m pyautogui\u001b[38;5;241m.\u001b[39mscroll(\u001b[38;5;241m-\u001b[39m\u001b[38;5;241m2000\u001b[39m);\n\u001b[0;32m     17\u001b[0m custom_sleep(\u001b[38;5;241m6\u001b[39m);\n",
      "Cell \u001b[1;32mIn[3], line 9\u001b[0m, in \u001b[0;36mcustom_sleep\u001b[1;34m(seconds)\u001b[0m\n\u001b[0;32m      8\u001b[0m \u001b[38;5;28;01mdef\u001b[39;00m \u001b[38;5;21mcustom_sleep\u001b[39m(seconds):\n\u001b[1;32m----> 9\u001b[0m     time\u001b[38;5;241m.\u001b[39msleep(seconds)\n",
      "\u001b[1;31mKeyboardInterrupt\u001b[0m: "
     ]
    }
   ],
   "source": [
    "import time;\n",
    "from pynput import mouse\n",
    "import pyautogui\n",
    "from pynput import keyboard\n",
    "import os\n",
    "import shutil\n",
    "Data = [];\n",
    "def custom_sleep(seconds):\n",
    "    time.sleep(seconds)\n",
    "def Scoll():\n",
    "    custom_sleep(2);\n",
    "    pyautogui.scroll(-2000);\n",
    "    custom_sleep(6);\n",
    "    pyautogui.scroll(-2000);\n",
    "    custom_sleep(6)\n",
    "    pyautogui.scroll(-2000);\n",
    "    custom_sleep(6);\n",
    "    pyautogui.scroll(-700);\n",
    "    custom_sleep(6);\n",
    "def click(x,y):\n",
    "    pyautogui.click(x,y);\n",
    "    custom_sleep(1.5);\n",
    "\n",
    "def type_and_enter(text):\n",
    "    controller = keyboard.Controller()\n",
    "    controller.type(text)\n",
    "    custom_sleep(2);\n",
    "    controller.press(keyboard.Key.enter)\n",
    "    controller.release(keyboard.Key.enter)\n",
    "\n",
    "def main(x):\n",
    "      # path\n",
    "    custom_sleep(3);\n",
    "    click(373, 62);\n",
    "    # input path\n",
    "    type_and_enter(x);\n",
    "    custom_sleep(4);\n",
    "    # Mouse clicked at (1360, 264) with Button.left\n",
    "    custom_sleep(1);\n",
    "    click(1257, 191);\n",
    "\n",
    "    Scoll();\n",
    "    # เลือกส่วนขยาย\n",
    "    click(1183, 61)\n",
    "    # ส่วนขยาย sracper\n",
    "    click(1012,236);\n",
    "    # download\n",
    "    # Mouse clicked at (834, 114) with Button.left\n",
    "    custom_sleep(2);\n",
    "    click(834, 114);\n",
    "    # Mouse clicked at (1118, 17) with Button.left\n",
    "    custom_sleep(2);\n",
    "    click(1118, 17);\n",
    "    # reface\n",
    "    click(100,60);\n",
    "def changdeta_and_changename(i,j):\n",
    "        # ระบุที่อยู่ของไฟล์และโฟลเดอร์ใหม่\n",
    "    current_directory = r'C:\\Users\\\\naken\\Downloads'\n",
    "    current_file_name = 'shopee.xlsx'\n",
    "    new_directory = r'C:\\Data_shopee'\n",
    "    new_file_name = 'data_'+str(i)+'_'+str(j)+'.xlsx'\n",
    "\n",
    "    # สร้างโฟลเดอร์ใหม่ถ้ายังไม่มี\n",
    "    if not os.path.exists(new_directory):\n",
    "        os.makedirs(new_directory)\n",
    "\n",
    "    # สร้างที่อยู่เต็มของไฟล์ปัจจุบันและไฟล์ใหม่\n",
    "    current_file_path = os.path.join(current_directory, current_file_name)\n",
    "    new_file_path = os.path.join(new_directory, new_file_name)\n",
    "\n",
    "    # ย้าย (เปลี่ยนชื่อ) ไฟล์ไปยังโฟลเดอร์ใหม่\n",
    "    shutil.move(current_file_path, new_file_path)\n",
    "    \n",
    "\n",
    "\n",
    "if __name__ == \"__main__\":\n",
    "    for k in range(len(data_link_product())):\n",
    "        Data = get_link(k);\n",
    "        \n",
    "        num2=1;\n",
    "        for i in range(len(Data)):\n",
    "            num1=0;\n",
    "            for j in range(9):\n",
    "                data_sum=Data[i]+str(num1);\n",
    "                main(data_sum);\n",
    "                num1+=1;\n",
    "                changdeta_and_changename(num2,num1);\n",
    "                print(data_sum);\n",
    "            num2+=1;"
   ]
  }
 ],
 "metadata": {
  "kernelspec": {
   "display_name": "Python 3",
   "language": "python",
   "name": "python3"
  },
  "language_info": {
   "codemirror_mode": {
    "name": "ipython",
    "version": 3
   },
   "file_extension": ".py",
   "mimetype": "text/x-python",
   "name": "python",
   "nbconvert_exporter": "python",
   "pygments_lexer": "ipython3",
   "version": "3.11.7"
  }
 },
 "nbformat": 4,
 "nbformat_minor": 2
}
